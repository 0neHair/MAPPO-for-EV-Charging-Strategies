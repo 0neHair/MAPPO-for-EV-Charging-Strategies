{
 "cells": [
  {
   "cell_type": "code",
   "execution_count": null,
   "metadata": {},
   "outputs": [],
   "source": [
    "import os\n",
    "import pandas as pd\n",
    "import matplotlib.pyplot as plt\n",
    "from env.EV_Sce_Env import EV_Sce_Env\n",
    "import math\n",
    "import seaborn as sns\n",
    "import numpy as np\n",
    "\n",
    "env = EV_Sce_Env('HY_2', seed=0)"
   ]
  },
  {
   "cell_type": "code",
   "execution_count": null,
   "metadata": {},
   "outputs": [],
   "source": [
    "#哈佛大学Data Science课程CS109推荐的matplotlib 默认设置\n",
    "#可以方便的设置一次，保证整体风格一致\n",
    "from matplotlib import rcParams\n",
    "# #图片大小\n",
    "# rcParams['figure.figsize'] = (10, 6)\n",
    "# #图片精度\n",
    "# rcParams['figure.dpi'] = 150\n",
    "# #线宽\n",
    "# rcParams['lines.linewidth'] = 2\n",
    "#是否显示网格\n",
    "rcParams['axes.grid'] = True\n",
    "#axes 填充颜色为浅灰\n",
    "rcParams['axes.facecolor'] = '#eeeeee'\n",
    "# #字体大小为14\n",
    "# rcParams['font.size'] = 14\n",
    "#边框为无色\n",
    "rcParams['patch.edgecolor'] = 'none'"
   ]
  },
  {
   "cell_type": "code",
   "execution_count": null,
   "metadata": {},
   "outputs": [],
   "source": []
  }
 ],
 "metadata": {
  "kernelspec": {
   "display_name": "Python 3",
   "language": "python",
   "name": "python3"
  },
  "language_info": {
   "name": "python",
   "version": "3.11.9"
  }
 },
 "nbformat": 4,
 "nbformat_minor": 2
}
