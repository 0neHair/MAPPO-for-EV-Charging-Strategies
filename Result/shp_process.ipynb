{
 "cells": [
  {
   "cell_type": "code",
   "execution_count": 1,
   "metadata": {},
   "outputs": [],
   "source": [
    "import os\n",
    "import pandas as pd\n",
    "import geopandas as gpd\n",
    "import matplotlib.pyplot as plt\n",
    "from env.EV_Sce_Env import EV_Sce_Env\n",
    "import math\n",
    "import seaborn as sns\n",
    "import numpy as np\n",
    "\n",
    "env = EV_Sce_Env('HY_2', seed=0)"
   ]
  },
  {
   "cell_type": "code",
   "execution_count": 13,
   "metadata": {},
   "outputs": [],
   "source": [
    "point = gpd.read_file('shp/YH.shp')\n",
    "link = gpd.read_file('shp/YH_link.shp')\n",
    "\n",
    "agent_num = env.agent_num\n",
    "od_id = {}\n",
    "for i in range(link.shape[0]):\n",
    "    od_id[link.iloc[i]['o-d']] = i"
   ]
  },
  {
   "cell_type": "markdown",
   "metadata": {},
   "source": [
    "Route Choice"
   ]
  },
  {
   "cell_type": "code",
   "execution_count": null,
   "metadata": {},
   "outputs": [],
   "source": [
    "link_list = list(set(link['o-d']))\n",
    "link_dic = {}\n",
    "for l in link_list:\n",
    "    link_dic[l] = 0\n",
    "\n",
    "for i in range(agent_num):\n",
    "    route = pd.read_csv('output/HY_2_T1_MAPPO/EV/EV%i_route.csv' % i)\n",
    "    for j in range(route.shape[0]):\n",
    "        link_dic[route.iloc[j]['edge']] += 1\n",
    "\n",
    "link_count = pd.DataFrame(list(link_dic.items()), columns=['o-d', 'count'])\n",
    "link1 = pd.merge(link, link_count, how='left', on='o-d')\n",
    "link1['count'] = link1['count'].fillna(0)\n",
    "\n",
    "link1.to_file('shp/YH_link_test.shp', driver='ESRI Shapefile')"
   ]
  },
  {
   "cell_type": "markdown",
   "metadata": {},
   "source": [
    "Route Couonts"
   ]
  },
  {
   "cell_type": "code",
   "execution_count": 5,
   "metadata": {},
   "outputs": [],
   "source": [
    "route_con = {}\n",
    "route_list = {}\n",
    "for i in range(env.agent_num):\n",
    "    ev_id = i\n",
    "    df_r = pd.read_csv('output/HY_2_T1_MAPPO/EV/EV{}_route.csv'.format(ev_id))\n",
    "    route = list(df_r['edge'])\n",
    "    r = route[0]\n",
    "    for j in range(1, len(route)):\n",
    "        next_p = route[j].split('-')[-1]\n",
    "        r += \"-\"+next_p\n",
    "    if r not in route_con.keys():\n",
    "        route_con[r] = 1\n",
    "        route_list[r] = [ev_id]\n",
    "    else:\n",
    "        route_con[r] += 1\n",
    "        route_list[r].append(ev_id)"
   ]
  },
  {
   "cell_type": "code",
   "execution_count": 33,
   "metadata": {},
   "outputs": [
    {
     "name": "stderr",
     "output_type": "stream",
     "text": [
      "C:\\Users\\10199\\AppData\\Local\\Temp\\ipykernel_23264\\902422355.py:9: UserWarning: Column names longer than 10 characters will be truncated when saved to ESRI Shapefile.\n",
      "  link2.to_file('shp/YH_link_test2.shp', driver='ESRI Shapefile')\n"
     ]
    }
   ],
   "source": [
    "link2 = link.copy()\n",
    "for r in route_con.keys():\n",
    "    link2[r] = 0\n",
    "for r in route_con.keys():\n",
    "    point_seq = r.split('-')\n",
    "    for i in range(1, len(point_seq)):\n",
    "        link2.loc[od_id[point_seq[i-1]+'-'+point_seq[i]], r] = route_con[r]\n",
    "\n",
    "link2.to_file('shp/YH_link_test2.shp', driver='ESRI Shapefile')"
   ]
  },
  {
   "cell_type": "markdown",
   "metadata": {},
   "source": [
    "Route Attribute"
   ]
  },
  {
   "cell_type": "code",
   "execution_count": 36,
   "metadata": {},
   "outputs": [
    {
     "data": {
      "text/plain": [
       "{'0-1-2-3-4-9': [0, 1, 3, 4, 7, 9, 10, 14, 16, 17, 19, 21, 28],\n",
       " '0-6-9': [2, 5, 27],\n",
       " '0-6-7-8-9': [6, 8, 15, 18, 23, 25, 26],\n",
       " '0-1-2-3-4-5-9': [11, 12, 22, 24],\n",
       " '0-2-3-4-5-9': [13],\n",
       " '0-1-2-3-9': [20, 29]}"
      ]
     },
     "execution_count": 36,
     "metadata": {},
     "output_type": "execute_result"
    }
   ],
   "source": [
    "route_list"
   ]
  },
  {
   "cell_type": "markdown",
   "metadata": {},
   "source": [
    "Charging time at CS"
   ]
  },
  {
   "cell_type": "code",
   "execution_count": null,
   "metadata": {},
   "outputs": [],
   "source": []
  }
 ],
 "metadata": {
  "kernelspec": {
   "display_name": "Python 3",
   "language": "python",
   "name": "python3"
  },
  "language_info": {
   "codemirror_mode": {
    "name": "ipython",
    "version": 3
   },
   "file_extension": ".py",
   "mimetype": "text/x-python",
   "name": "python",
   "nbconvert_exporter": "python",
   "pygments_lexer": "ipython3",
   "version": "3.11.9"
  }
 },
 "nbformat": 4,
 "nbformat_minor": 2
}
