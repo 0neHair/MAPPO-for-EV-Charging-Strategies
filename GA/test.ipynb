{
 "cells": [
  {
   "cell_type": "code",
   "execution_count": 1,
   "metadata": {},
   "outputs": [],
   "source": [
    "from env.EV_Sce_Env import EV_Sce_Env\n",
    "import numpy as np\n",
    "\n",
    "env = EV_Sce_Env(sce_name=\"test_2\", seed=0, ps=False)\n",
    "ve_matrix = np.zeros((env.map_adj.shape[1], env.edge_index.shape[1]))\n",
    "for e in range(env.edge_index.shape[1]):\n",
    "    ve_matrix[env.edge_index[0][e], e] = -1\n",
    "    ve_matrix[env.edge_index[1][e], e] = 1\n",
    "caction_list = env.caction_list # 可选充电动作列表\n",
    "cact_dim = ve_matrix.shape[0]\n",
    "cat_max = len(caction_list)\n",
    "ract_dim = ve_matrix.shape[1]\n",
    "agent_num = env.agent_num # 智能体数量\n",
    "num_cs = env.num_cs # 充电站数量\n",
    "b = np.zeros(ve_matrix.shape[0])\n",
    "b[0] = -1\n",
    "b[-1] = 1"
   ]
  },
  {
   "cell_type": "code",
   "execution_count": 2,
   "metadata": {},
   "outputs": [],
   "source": [
    "import numpy as np"
   ]
  },
  {
   "cell_type": "code",
   "execution_count": 3,
   "metadata": {},
   "outputs": [],
   "source": [
    "a1 = [\n",
    "        [0, 1, 0, 0, 0],\n",
    "        [0, 0, 1, 0, 0],\n",
    "        [0, 0, 0, 0, 1],\n",
    "        [0, 0, 0, 0, 1],\n",
    "        [0, 0, 0, 0, 0]\n",
    "    ]\n",
    "a = np.array([0, 1, 0, 0, 0, 0, 0, 1, 0, 0, 0, 0, 0, 0, 1, 0, 0, 0, 0, 1, 0, 0, 0, 0, 0])"
   ]
  },
  {
   "cell_type": "code",
   "execution_count": 4,
   "metadata": {},
   "outputs": [
    {
     "data": {
      "text/plain": [
       "array([[0, 1, 0, 0, 0],\n",
       "       [0, 0, 1, 0, 0],\n",
       "       [0, 0, 0, 0, 1],\n",
       "       [0, 0, 0, 0, 1],\n",
       "       [0, 0, 0, 0, 0]])"
      ]
     },
     "execution_count": 4,
     "metadata": {},
     "output_type": "execute_result"
    }
   ],
   "source": [
    "a.reshape([5, 5])"
   ]
  }
 ],
 "metadata": {
  "kernelspec": {
   "display_name": "Python 3",
   "language": "python",
   "name": "python3"
  },
  "language_info": {
   "codemirror_mode": {
    "name": "ipython",
    "version": 3
   },
   "file_extension": ".py",
   "mimetype": "text/x-python",
   "name": "python",
   "nbconvert_exporter": "python",
   "pygments_lexer": "ipython3",
   "version": "3.11.9"
  }
 },
 "nbformat": 4,
 "nbformat_minor": 2
}
