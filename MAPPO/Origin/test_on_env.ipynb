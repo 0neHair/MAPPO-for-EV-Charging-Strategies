{
 "cells": [
  {
   "cell_type": "code",
   "execution_count": 1,
   "metadata": {},
   "outputs": [],
   "source": [
    "import numpy as np\n",
    "np.random.seed(0)"
   ]
  },
  {
   "cell_type": "code",
   "execution_count": 2,
   "metadata": {},
   "outputs": [
    {
     "ename": "FileNotFoundError",
     "evalue": "[Errno 2] No such file or directory: 'c:\\\\Users\\\\10199\\\\Study\\\\EV\\\\code\\\\code_mine\\\\MAPPO\\\\plan_2_test_on_mappo_mp\\\\env\\\\scenarios\\\\train_1.py'",
     "output_type": "error",
     "traceback": [
      "\u001b[1;31m---------------------------------------------------------------------------\u001b[0m",
      "\u001b[1;31mFileNotFoundError\u001b[0m                         Traceback (most recent call last)",
      "Cell \u001b[1;32mIn[2], line 3\u001b[0m\n\u001b[0;32m      1\u001b[0m \u001b[38;5;28;01mfrom\u001b[39;00m \u001b[38;5;21;01menv\u001b[39;00m\u001b[38;5;21;01m.\u001b[39;00m\u001b[38;5;21;01mEV_Sce_Env\u001b[39;00m \u001b[38;5;28;01mimport\u001b[39;00m EV_Sce_Env\n\u001b[1;32m----> 3\u001b[0m env \u001b[38;5;241m=\u001b[39m \u001b[43mEV_Sce_Env\u001b[49m\u001b[43m(\u001b[49m\u001b[38;5;124;43m'\u001b[39;49m\u001b[38;5;124;43mtrain_1\u001b[39;49m\u001b[38;5;124;43m'\u001b[39;49m\u001b[43m,\u001b[49m\u001b[43m \u001b[49m\u001b[43mseed\u001b[49m\u001b[38;5;241;43m=\u001b[39;49m\u001b[38;5;241;43m0\u001b[39;49m\u001b[43m)\u001b[49m\n\u001b[0;32m      4\u001b[0m env\u001b[38;5;241m.\u001b[39mreset()\n",
      "File \u001b[1;32mc:\\Users\\10199\\Study\\EV\\code\\code_mine\\MAPPO\\plan_2_test_on_mappo_mp\\env\\EV_Sce_Env.py:28\u001b[0m, in \u001b[0;36mEV_Sce_Env\u001b[1;34m(scenario_name, seed)\u001b[0m\n\u001b[0;32m     10\u001b[0m \u001b[38;5;250m\u001b[39m\u001b[38;5;124;03m'''\u001b[39;00m\n\u001b[0;32m     11\u001b[0m \u001b[38;5;124;03mCreates a MultiAgentEnv object as env. This can be used similar to a gym\u001b[39;00m\n\u001b[0;32m     12\u001b[0m \u001b[38;5;124;03menvironment by calling env.reset() and env.step().\u001b[39;00m\n\u001b[1;32m   (...)\u001b[0m\n\u001b[0;32m     24\u001b[0m \u001b[38;5;124;03m    .n                  :   Returns the number of Agents\u001b[39;00m\n\u001b[0;32m     25\u001b[0m \u001b[38;5;124;03m'''\u001b[39;00m\n\u001b[0;32m     27\u001b[0m \u001b[38;5;66;03m# load scenario from script\u001b[39;00m\n\u001b[1;32m---> 28\u001b[0m scenario \u001b[38;5;241m=\u001b[39m \u001b[43mload\u001b[49m\u001b[43m(\u001b[49m\u001b[43mscenario_name\u001b[49m\u001b[43m \u001b[49m\u001b[38;5;241;43m+\u001b[39;49m\u001b[43m \u001b[49m\u001b[38;5;124;43m\"\u001b[39;49m\u001b[38;5;124;43m.py\u001b[39;49m\u001b[38;5;124;43m\"\u001b[39;49m\u001b[43m)\u001b[49m\u001b[38;5;241m.\u001b[39mScenario(frame\u001b[38;5;241m=\u001b[39m\u001b[38;5;241m0.05\u001b[39m, seed\u001b[38;5;241m=\u001b[39mseed)\n\u001b[0;32m     29\u001b[0m \u001b[38;5;66;03m# create multiagent environment\u001b[39;00m\n\u001b[0;32m     30\u001b[0m env \u001b[38;5;241m=\u001b[39m Multi_EV_Env(scenario\u001b[38;5;241m=\u001b[39mscenario, seed\u001b[38;5;241m=\u001b[39mseed)\n",
      "File \u001b[1;32mc:\\Users\\10199\\Study\\EV\\code\\code_mine\\MAPPO\\plan_2_test_on_mappo_mp\\env\\scenarios\\__init__.py:6\u001b[0m, in \u001b[0;36mload\u001b[1;34m(name)\u001b[0m\n\u001b[0;32m      4\u001b[0m \u001b[38;5;28;01mdef\u001b[39;00m \u001b[38;5;21mload\u001b[39m(name):\n\u001b[0;32m      5\u001b[0m     pathname \u001b[38;5;241m=\u001b[39m osp\u001b[38;5;241m.\u001b[39mjoin(osp\u001b[38;5;241m.\u001b[39mdirname(\u001b[38;5;18m__file__\u001b[39m), name)\n\u001b[1;32m----> 6\u001b[0m     \u001b[38;5;28;01mreturn\u001b[39;00m \u001b[43mimp\u001b[49m\u001b[38;5;241;43m.\u001b[39;49m\u001b[43mload_source\u001b[49m\u001b[43m(\u001b[49m\u001b[38;5;124;43m'\u001b[39;49m\u001b[38;5;124;43m'\u001b[39;49m\u001b[43m,\u001b[49m\u001b[43m \u001b[49m\u001b[43mpathname\u001b[49m\u001b[43m)\u001b[49m\n",
      "File \u001b[1;32mc:\\Users\\10199\\Python\\3.11\\Lib\\imp.py:172\u001b[0m, in \u001b[0;36mload_source\u001b[1;34m(name, pathname, file)\u001b[0m\n\u001b[0;32m    170\u001b[0m     module \u001b[38;5;241m=\u001b[39m _exec(spec, sys\u001b[38;5;241m.\u001b[39mmodules[name])\n\u001b[0;32m    171\u001b[0m \u001b[38;5;28;01melse\u001b[39;00m:\n\u001b[1;32m--> 172\u001b[0m     module \u001b[38;5;241m=\u001b[39m \u001b[43m_load\u001b[49m\u001b[43m(\u001b[49m\u001b[43mspec\u001b[49m\u001b[43m)\u001b[49m\n\u001b[0;32m    173\u001b[0m \u001b[38;5;66;03m# To allow reloading to potentially work, use a non-hacked loader which\u001b[39;00m\n\u001b[0;32m    174\u001b[0m \u001b[38;5;66;03m# won't rely on a now-closed file object.\u001b[39;00m\n\u001b[0;32m    175\u001b[0m module\u001b[38;5;241m.\u001b[39m__loader__ \u001b[38;5;241m=\u001b[39m machinery\u001b[38;5;241m.\u001b[39mSourceFileLoader(name, pathname)\n",
      "File \u001b[1;32m<frozen importlib._bootstrap>:721\u001b[0m, in \u001b[0;36m_load\u001b[1;34m(spec)\u001b[0m\n",
      "File \u001b[1;32m<frozen importlib._bootstrap>:690\u001b[0m, in \u001b[0;36m_load_unlocked\u001b[1;34m(spec)\u001b[0m\n",
      "File \u001b[1;32m<frozen importlib._bootstrap_external>:936\u001b[0m, in \u001b[0;36mexec_module\u001b[1;34m(self, module)\u001b[0m\n",
      "File \u001b[1;32m<frozen importlib._bootstrap_external>:1073\u001b[0m, in \u001b[0;36mget_code\u001b[1;34m(self, fullname)\u001b[0m\n",
      "File \u001b[1;32mc:\\Users\\10199\\Python\\3.11\\Lib\\imp.py:158\u001b[0m, in \u001b[0;36m_HackedGetData.get_data\u001b[1;34m(self, path)\u001b[0m\n\u001b[0;32m    156\u001b[0m         \u001b[38;5;28;01mreturn\u001b[39;00m file\u001b[38;5;241m.\u001b[39mread()\n\u001b[0;32m    157\u001b[0m \u001b[38;5;28;01melse\u001b[39;00m:\n\u001b[1;32m--> 158\u001b[0m     \u001b[38;5;28;01mreturn\u001b[39;00m \u001b[38;5;28;43msuper\u001b[39;49m\u001b[43m(\u001b[49m\u001b[43m)\u001b[49m\u001b[38;5;241;43m.\u001b[39;49m\u001b[43mget_data\u001b[49m\u001b[43m(\u001b[49m\u001b[43mpath\u001b[49m\u001b[43m)\u001b[49m\n",
      "File \u001b[1;32m<frozen importlib._bootstrap_external>:1130\u001b[0m, in \u001b[0;36mget_data\u001b[1;34m(self, path)\u001b[0m\n",
      "\u001b[1;31mFileNotFoundError\u001b[0m: [Errno 2] No such file or directory: 'c:\\\\Users\\\\10199\\\\Study\\\\EV\\\\code\\\\code_mine\\\\MAPPO\\\\plan_2_test_on_mappo_mp\\\\env\\\\scenarios\\\\train_1.py'"
     ]
    }
   ],
   "source": [
    "from env.EV_Sce_Env import EV_Sce_Env\n",
    "\n",
    "env = EV_Sce_Env('train_1', seed=0)\n",
    "env.reset()"
   ]
  },
  {
   "cell_type": "code",
   "execution_count": null,
   "metadata": {},
   "outputs": [
    {
     "data": {
      "text/plain": [
       "([array([-0.14317115,  6.        ,  0.        ,  0.        ,  0.        ,\n",
       "          0.        ]),\n",
       "  array([-0.18382528,  6.        ,  0.        ,  0.        ,  0.        ,\n",
       "          0.        ]),\n",
       "  array([0.2725254, 8.       , 0.       , 0.       , 0.       , 1.       ]),\n",
       "  array([0.43289467, 8.        , 0.        , 0.        , 0.        ,\n",
       "         1.        ]),\n",
       "  array([0.01918349, 8.        , 0.        , 0.        , 0.        ,\n",
       "         1.        ])],\n",
       " array([-0.14317115,  6.        ,  0.        ,  0.        ,  0.        ,\n",
       "        -0.18382528,  6.        ,  0.        ,  0.        ,  0.        ,\n",
       "         0.2725254 ,  8.        ,  0.        ,  0.        ,  1.        ,\n",
       "         0.43289467,  8.        ,  0.        ,  0.        ,  1.        ,\n",
       "         0.01918349,  8.        ,  0.        ,  0.        ,  1.        ,\n",
       "         0.        ,  0.        ,  0.        ]),\n",
       " [array([-10]), array([-10]), array([-5]), array([-5]), array([-5])],\n",
       " [array([ True]),\n",
       "  array([ True]),\n",
       "  array([ True]),\n",
       "  array([ True]),\n",
       "  array([ True])],\n",
       " [],\n",
       " [array([0]), array([0]), array([0]), array([0]), array([0])],\n",
       " [],\n",
       " [])"
      ]
     },
     "execution_count": 47,
     "metadata": {},
     "output_type": "execute_result"
    }
   ],
   "source": [
    "env.step([0, 0, 0, 0, 0])"
   ]
  },
  {
   "cell_type": "code",
   "execution_count": null,
   "metadata": {},
   "outputs": [
    {
     "name": "stdout",
     "output_type": "stream",
     "text": [
      "Time: 3.1 h\n",
      "O:None----CS_0:None----CS_1:None--------CS_2:[EV_0,EV_1]------D:[EV_2,EV_3,EV_4]\n",
      "EV_0:\n",
      "\t SOC:-0.14%   Pos:6   Reward:-10.00   Using time:0.00h   Charing times:0   Charing SOC:0.00%\n",
      "\t Action_list:  [0, 0]\n",
      "EV_1:\n",
      "\t SOC:-0.18%   Pos:6   Reward:-10.00   Using time:0.00h   Charing times:0   Charing SOC:0.00%\n",
      "\t Action_list:  [0, 0]\n",
      "EV_2:\n",
      "\t SOC:0.27%   Pos:8   Reward:-5.00   Using time:0.00h   Charing times:0   Charing SOC:0.00%\n",
      "\t Action_list:  [0, 0, 0]\n",
      "EV_3:\n",
      "\t SOC:0.43%   Pos:8   Reward:-5.00   Using time:0.00h   Charing times:0   Charing SOC:0.00%\n",
      "\t Action_list:  [0, 0, 0]\n",
      "EV_4:\n",
      "\t SOC:0.02%   Pos:8   Reward:-5.00   Using time:0.00h   Charing times:0   Charing SOC:0.00%\n",
      "\t Action_list:  [0, 0, 0]\n",
      "CS_0: 0.00\t0.00\t0.00\t\n",
      "CS_1: 0.00\t0.00\t0.00\t\n",
      "CS_2: 0.00\t0.00\t0.00\t\n",
      "Global_inf:  [0, 0, 0]\n"
     ]
    }
   ],
   "source": [
    "env.render()"
   ]
  },
  {
   "cell_type": "code",
   "execution_count": null,
   "metadata": {},
   "outputs": [
    {
     "data": {
      "text/plain": [
       "False"
      ]
     },
     "execution_count": 15,
     "metadata": {},
     "output_type": "execute_result"
    }
   ],
   "source": [
    "env.agents[0].finish_trip"
   ]
  }
 ],
 "metadata": {
  "kernelspec": {
   "display_name": "Python 3",
   "language": "python",
   "name": "python3"
  },
  "language_info": {
   "codemirror_mode": {
    "name": "ipython",
    "version": 3
   },
   "file_extension": ".py",
   "mimetype": "text/x-python",
   "name": "python",
   "nbconvert_exporter": "python",
   "pygments_lexer": "ipython3",
   "version": "3.11.9"
  }
 },
 "nbformat": 4,
 "nbformat_minor": 2
}
