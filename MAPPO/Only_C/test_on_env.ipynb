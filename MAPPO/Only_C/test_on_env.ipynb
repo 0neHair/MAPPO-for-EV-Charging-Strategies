{
 "cells": [
  {
   "cell_type": "code",
   "execution_count": 14,
   "metadata": {},
   "outputs": [],
   "source": [
    "import numpy as np\n",
    "np.random.seed(0)\n",
    "from env.EV_Sce_Env import EV_Sce_Env\n",
    "\n",
    "env = EV_Sce_Env('test_2', seed=0, ps=False)"
   ]
  },
  {
   "cell_type": "code",
   "execution_count": 15,
   "metadata": {},
   "outputs": [],
   "source": [
    "env.reset()\n",
    "# agents_total_reward = np.array([0.0 for _ in range(env.agent_num)])\n",
    "# print(env.caction_list)"
   ]
  },
  {
   "cell_type": "code",
   "execution_count": 20,
   "metadata": {},
   "outputs": [
    {
     "data": {
      "text/plain": [
       "([array([0.3 , 0.5 , 6.69, 1.  , 0.  , 1.  , 0.  , 0.  , 0.  , 0.  , 1.  ]),\n",
       "  array([0.3, 0.5, 6.3, 1. , 0. , 1. , 0. , 0. , 0. , 0. , 1. ])],\n",
       " [array([0, 0, 0, 0, 0]), array([0, 0, 0, 0, 0])],\n",
       " array([0.3 , 0.5 , 6.69, 1.  , 1.  , 0.  , 0.  , 0.  , 0.  , 1.  , 0.3 ,\n",
       "        0.5 , 6.3 , 1.  , 1.  , 0.  , 0.  , 0.  , 0.  , 1.  , 0.  , 0.  ,\n",
       "        0.  , 3.3 , 0.  ]),\n",
       " [array([ True]), array([ True])],\n",
       " [array([-11.29]), array([-10.9])],\n",
       " [array([12]), array([12])],\n",
       " [array([4]), array([4])],\n",
       " [0, 1],\n",
       " [False, False])"
      ]
     },
     "execution_count": 20,
     "metadata": {},
     "output_type": "execute_result"
    }
   ],
   "source": [
    "env.step(([12, 12], [4, 4]))"
   ]
  },
  {
   "cell_type": "code",
   "execution_count": 21,
   "metadata": {},
   "outputs": [
    {
     "name": "stdout",
     "output_type": "stream",
     "text": [
      "Time: 6.7 h\n",
      "EV_0:\n",
      "\t SOC:0.300%   Pos:1-4   Reward:-11.69000   Using time:6.690h   Charing times:1   Charing SOC:0.200%\n",
      "\t Action_list:  [1, 12, 4]\n",
      "\t Action_type:  ['r', 'c', 'r']\n",
      "\t Route:  ['0-1', '1-4']\n",
      "EV_1:\n",
      "\t SOC:0.300%   Pos:1-4   Reward:-11.30000   Using time:6.300h   Charing times:1   Charing SOC:0.200%\n",
      "\t Action_list:  [1, 12, 4]\n",
      "\t Action_type:  ['r', 'c', 'r']\n",
      "\t Route:  ['0-1', '1-4']\n",
      "CS_0: 0.000\t0.000\t\n",
      "CS_1: 0.000\t0.000\t\n",
      "CS_2: 0.000\t0.000\t\n",
      "CS_3: 3.300\t3.300\t\n",
      "CS_4: 0.000\t0.000\t\n",
      "Global_inf:  [0, 0, 0.0, 3.300000000000143, 0]\n"
     ]
    }
   ],
   "source": [
    "env.render()"
   ]
  }
 ],
 "metadata": {
  "kernelspec": {
   "display_name": "Python 3",
   "language": "python",
   "name": "python3"
  },
  "language_info": {
   "codemirror_mode": {
    "name": "ipython",
    "version": 3
   },
   "file_extension": ".py",
   "mimetype": "text/x-python",
   "name": "python",
   "nbconvert_exporter": "python",
   "pygments_lexer": "ipython3",
   "version": "3.11.9"
  }
 },
 "nbformat": 4,
 "nbformat_minor": 2
}
