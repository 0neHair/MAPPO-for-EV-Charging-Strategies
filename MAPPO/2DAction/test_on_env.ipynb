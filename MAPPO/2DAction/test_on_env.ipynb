{
 "cells": [
  {
   "cell_type": "code",
   "execution_count": 1,
   "metadata": {},
   "outputs": [],
   "source": [
    "import numpy as np\n",
    "np.random.seed(0)\n",
    "from env.EV_Sce_Env import EV_Sce_Env\n",
    "\n",
    "env = EV_Sce_Env('test_2', seed=0, ps=False)"
   ]
  },
  {
   "cell_type": "code",
   "execution_count": 2,
   "metadata": {},
   "outputs": [
    {
     "name": "stdout",
     "output_type": "stream",
     "text": [
      "[1.5, 0.05, 0.1, 0.15, 0.2, 0.25, 0.3, 0.35, 0.4, 0.45, 0.5, 0.55, 0.6, 0.65, 0.7, 0.75, 0.8, 0.85, 0.9, 0.95, 1.0]\n"
     ]
    }
   ],
   "source": [
    "env.reset()\n",
    "agents_total_reward = np.array([0.0 for _ in range(env.agent_num)])\n",
    "print(env.caction_list)"
   ]
  },
  {
   "cell_type": "code",
   "execution_count": 16,
   "metadata": {},
   "outputs": [
    {
     "data": {
      "text/plain": [
       "([array([0.5 , 0.5 , 5.25, 1.  , 3.45, 0.  , 0.  , 1.  , 0.  , 0.  , 0.  ]),\n",
       "  array([0.2 , 0.5 , 1.2 , 0.  , 8.45, 0.  , 0.  , 0.  , 0.  , 1.  , 0.  ])],\n",
       " [array([[0.  , 0.  ],\n",
       "         [3.45, 1.  ],\n",
       "         [0.  , 0.  ],\n",
       "         [8.45, 0.  ],\n",
       "         [0.  , 0.  ]]),\n",
       "  array([[0.  , 0.  ],\n",
       "         [3.45, 0.  ],\n",
       "         [0.  , 0.  ],\n",
       "         [8.45, 1.  ],\n",
       "         [0.  , 0.  ]])],\n",
       " [array([0, 0, 1, 0, 1]), array([0, 0, 0, 0, 1])],\n",
       " array([0.5 , 0.5 , 5.25, 1.  , 0.  , 0.  , 1.  , 0.  , 0.  , 0.  , 0.2 ,\n",
       "        0.5 , 1.2 , 0.  , 0.  , 0.  , 0.  , 0.  , 1.  , 0.  , 0.  , 3.45,\n",
       "        0.  , 8.45, 0.  ]),\n",
       " array([[0.  , 0.  , 0.  , 0.  ],\n",
       "        [3.7 , 3.45, 1.  , 0.  ],\n",
       "        [0.  , 0.  , 0.  , 0.  ],\n",
       "        [8.45, 8.45, 0.  , 1.  ],\n",
       "        [0.  , 0.  , 0.  , 0.  ]]),\n",
       " [array([False]), array([False])],\n",
       " [array([-4.85]), array([0])],\n",
       " [array([-5.25]), array([-0.4])],\n",
       " [array([10]), array([0])],\n",
       " [array([1]), array([3])],\n",
       " [1],\n",
       " [True],\n",
       " [],\n",
       " [])"
      ]
     },
     "execution_count": 16,
     "metadata": {},
     "output_type": "execute_result"
    }
   ],
   "source": [
    "env.step(([10, 0], [4, 0]))"
   ]
  },
  {
   "cell_type": "code",
   "execution_count": 17,
   "metadata": {},
   "outputs": [
    {
     "name": "stdout",
     "output_type": "stream",
     "text": [
      "Time: 1.55 h\n",
      "EV_0:\n",
      "\t SOC:0.500%   Pos:P1   Reward:-5.25000   Using time:5.250h   Charing times:1   Charing SOC:0.100%\n",
      "\t Action_list:  [1, 10]\n",
      "\t Action_type:  ['r', 'c']\n",
      "\t Route:  ['0-1']\n",
      "EV_1:\n",
      "\t SOC:0.200%   Pos:2-3   Reward:-1.20000   Using time:1.200h   Charing times:0   Charing SOC:0.000%\n",
      "\t Action_list:  [1, 0, 2, 0, 3]\n",
      "\t Action_type:  ['r', 'c', 'r', 'c', 'r']\n",
      "\t Route:  ['0-1', '1-2', '2-3']\n",
      "CS_0: 0.000\t0.000\t\n",
      "CS_1: 3.700\t3.450\t\n",
      "CS_2: 0.000\t0.000\t\n",
      "CS_3: 8.450\t8.450\t\n",
      "CS_4: 0.000\t0.000\t\n",
      "Global_inf:  [0, 3.4500000000000055, 0.0, 8.449999999999978, 0]\n"
     ]
    }
   ],
   "source": [
    "env.render()"
   ]
  }
 ],
 "metadata": {
  "kernelspec": {
   "display_name": "Python 3",
   "language": "python",
   "name": "python3"
  },
  "language_info": {
   "codemirror_mode": {
    "name": "ipython",
    "version": 3
   },
   "file_extension": ".py",
   "mimetype": "text/x-python",
   "name": "python",
   "nbconvert_exporter": "python",
   "pygments_lexer": "ipython3",
   "version": "3.9.2"
  }
 },
 "nbformat": 4,
 "nbformat_minor": 2
}
