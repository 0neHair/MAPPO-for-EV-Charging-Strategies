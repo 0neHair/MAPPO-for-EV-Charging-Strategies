{
 "cells": [
  {
   "cell_type": "code",
   "execution_count": 1,
   "metadata": {},
   "outputs": [],
   "source": [
    "import numpy as np\n",
    "np.random.seed(0)\n",
    "from env.EV_Sce_Env import EV_Sce_Env\n",
    "\n",
    "env = EV_Sce_Env('test_2', seed=0, ps=False)"
   ]
  },
  {
   "cell_type": "code",
   "execution_count": 2,
   "metadata": {},
   "outputs": [
    {
     "name": "stdout",
     "output_type": "stream",
     "text": [
      "[1.5, 0.05, 0.1, 0.15, 0.2, 0.25, 0.3, 0.35, 0.4, 0.45, 0.5, 0.55, 0.6, 0.65, 0.7, 0.75, 0.8, 0.85, 0.9, 0.95, 1.0]\n"
     ]
    }
   ],
   "source": [
    "env.reset()\n",
    "agents_total_reward = np.array([0.0 for _ in range(env.agent_num)])\n",
    "print(env.caction_list)"
   ]
  },
  {
   "cell_type": "code",
   "execution_count": 14,
   "metadata": {},
   "outputs": [
    {
     "data": {
      "text/plain": [
       "([array([0.5  , 0.5  , 2.275, 1.   , 0.   , 1.   , 0.   , 0.   , 0.   ,\n",
       "         0.   , 1.   ]),\n",
       "  array([0.5  , 0.5  , 2.275, 1.   , 0.   , 1.   , 0.   , 0.   , 0.   ,\n",
       "         0.   , 1.   ])],\n",
       " [array([[0.  , 0.  ],\n",
       "         [2.33, 0.  ],\n",
       "         [0.  , 0.  ],\n",
       "         [7.33, 0.  ],\n",
       "         [0.  , 1.  ]]),\n",
       "  array([[0.  , 0.  ],\n",
       "         [2.33, 0.  ],\n",
       "         [0.  , 0.  ],\n",
       "         [7.33, 0.  ],\n",
       "         [0.  , 1.  ]])],\n",
       " [array([0, 0, 0, 0, 0]), array([0, 0, 0, 0, 0])],\n",
       " array([0.5  , 0.5  , 2.275, 1.   , 1.   , 0.   , 0.   , 0.   , 0.   ,\n",
       "        1.   , 0.5  , 0.5  , 2.275, 1.   , 1.   , 0.   , 0.   , 0.   ,\n",
       "        0.   , 1.   , 0.   , 2.33 , 0.   , 7.33 , 0.   ]),\n",
       " array([[0.  , 0.  , 0.  , 0.  ],\n",
       "        [2.33, 2.33, 0.  , 0.  ],\n",
       "        [0.  , 0.  , 0.  , 0.  ],\n",
       "        [7.33, 7.33, 0.  , 0.  ],\n",
       "        [0.  , 0.  , 1.  , 1.  ]]),\n",
       " [array([ True]), array([ True])],\n",
       " [array([-0.875]), array([-0.875])],\n",
       " [array([-0.6]), array([-0.6])],\n",
       " [array([13]), array([13])],\n",
       " [array([4]), array([4])],\n",
       " [],\n",
       " [],\n",
       " [],\n",
       " [])"
      ]
     },
     "execution_count": 14,
     "metadata": {},
     "output_type": "execute_result"
    }
   ],
   "source": [
    "env.step(([0, 0], [4, 4]))"
   ]
  },
  {
   "cell_type": "code",
   "execution_count": 15,
   "metadata": {},
   "outputs": [
    {
     "name": "stdout",
     "output_type": "stream",
     "text": [
      "Time: 2.67 h\n",
      "EV_0:\n",
      "\t SOC:0.500%   Pos:2-4   Reward:-2.27500   Using time:2.275h   Charing times:1   Charing SOC:0.350%\n",
      "\t Action_list:  [1, 0, 2, 13, 4]\n",
      "\t Action_type:  ['r', 'c', 'r', 'c', 'r']\n",
      "\t Route:  ['0-1', '1-2', '2-4']\n",
      "EV_1:\n",
      "\t SOC:0.500%   Pos:2-4   Reward:-2.27500   Using time:2.275h   Charing times:1   Charing SOC:0.350%\n",
      "\t Action_list:  [1, 0, 2, 13, 4]\n",
      "\t Action_type:  ['r', 'c', 'r', 'c', 'r']\n",
      "\t Route:  ['0-1', '1-2', '2-4']\n",
      "CS_0: 0.000\t0.000\t\n",
      "CS_1: 2.330\t2.330\t\n",
      "CS_2: 0.000\t0.000\t\n",
      "CS_3: 7.330\t7.330\t\n",
      "CS_4: 0.000\t0.000\t\n",
      "Global_inf:  [0, 2.330000000000057, 0, 7.330000000000057, 0]\n"
     ]
    }
   ],
   "source": [
    "env.render()"
   ]
  }
 ],
 "metadata": {
  "kernelspec": {
   "display_name": "Python 3",
   "language": "python",
   "name": "python3"
  },
  "language_info": {
   "codemirror_mode": {
    "name": "ipython",
    "version": 3
   },
   "file_extension": ".py",
   "mimetype": "text/x-python",
   "name": "python",
   "nbconvert_exporter": "python",
   "pygments_lexer": "ipython3",
   "version": "3.11.9"
  }
 },
 "nbformat": 4,
 "nbformat_minor": 2
}
