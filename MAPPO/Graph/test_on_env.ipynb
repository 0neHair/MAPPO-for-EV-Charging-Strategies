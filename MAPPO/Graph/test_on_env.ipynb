{
 "cells": [
  {
   "cell_type": "code",
   "execution_count": 93,
   "metadata": {},
   "outputs": [],
   "source": [
    "import numpy as np\n",
    "np.random.seed(0)\n",
    "from env.EV_Sce_Env import EV_Sce_Env\n",
    "\n",
    "env = EV_Sce_Env('test_2', seed=0, ps=False)"
   ]
  },
  {
   "cell_type": "code",
   "execution_count": 94,
   "metadata": {},
   "outputs": [
    {
     "name": "stdout",
     "output_type": "stream",
     "text": [
      "[1.5, 0.05, 0.1, 0.15, 0.2, 0.25, 0.3, 0.35, 0.4, 0.45, 0.5, 0.55, 0.6, 0.65, 0.7, 0.75, 0.8, 0.85, 0.9, 0.95, 1.0]\n"
     ]
    }
   ],
   "source": [
    "env.reset()\n",
    "agents_total_reward = np.array([0.0 for _ in range(env.agent_num)])\n",
    "print(env.caction_list)"
   ]
  },
  {
   "cell_type": "code",
   "execution_count": 98,
   "metadata": {},
   "outputs": [
    {
     "data": {
      "text/plain": [
       "([array([0.2 , 0.5 , 6.45, 1.  , 0.  , 1.  , 0.  , 0.  , 0.  , 0.  , 1.  ])],\n",
       " [array([[0.  , 0.  ],\n",
       "         [0.  , 0.  ],\n",
       "         [0.  , 0.  ],\n",
       "         [3.55, 0.  ],\n",
       "         [0.  , 1.  ]])],\n",
       " [array([0, 0, 0, 0, 0])],\n",
       " array([0.2 , 0.5 , 6.45, 1.  , 1.  , 0.  , 0.  , 0.  , 0.  , 1.  , 0.  ,\n",
       "        0.  , 0.  , 3.55, 0.  ]),\n",
       " array([[0.  , 0.  , 0.  ],\n",
       "        [0.  , 0.  , 0.  ],\n",
       "        [0.  , 0.  , 0.  ],\n",
       "        [3.55, 3.55, 0.  ],\n",
       "        [0.  , 0.  , 1.  ]]),\n",
       " [array([ True])],\n",
       " [array([-9.85])],\n",
       " [array([-6.2])],\n",
       " [array([10])],\n",
       " [array([4])],\n",
       " [0],\n",
       " [False],\n",
       " [0],\n",
       " [0],\n",
       " array([-11.45]))"
      ]
     },
     "execution_count": 98,
     "metadata": {},
     "output_type": "execute_result"
    }
   ],
   "source": [
    "obs_n, obs_feature_n, obs_mask_n, \\\n",
    "    share_obs, global_cs_feature, \\\n",
    "        done_n, creward_n, rreward_n, cact_n, ract_n, \\\n",
    "            activate_agent_ci, activate_to_cact, activate_agent_ri, activate_to_ract = env.step(([10], [4]))\n",
    "\n",
    "for i, agent_i in enumerate(activate_agent_ci):\n",
    "    pass\n",
    "for i, agent_i in enumerate(activate_agent_ri):\n",
    "    agents_total_reward[agent_i] += rreward_n[agent_i][0].copy()\n",
    "                        \n",
    "obs_n, obs_feature_n, obs_mask_n, \\\n",
    "    share_obs, global_cs_feature, \\\n",
    "        done_n, creward_n, rreward_n, cact_n, ract_n, \\\n",
    "            activate_agent_ci, activate_to_cact, activate_agent_ri, activate_to_ract, \\\n",
    "                agents_total_reward"
   ]
  },
  {
   "cell_type": "code",
   "execution_count": 96,
   "metadata": {},
   "outputs": [
    {
     "name": "stdout",
     "output_type": "stream",
     "text": [
      "Time: 0.4 h\n",
      "EV_0:\n",
      "\t SOC:0.400%   Pos:0-1   Reward:-0.40000   Using time:0.400h   Charing times:0   Charing SOC:0.000%\n",
      "\t Action_list:  [1]\n",
      "\t Action_type:  ['r']\n",
      "CS_0: 0.000\t0.000\t\n",
      "CS_1: 4.600\t4.600\t\n",
      "CS_2: 0.000\t0.000\t\n",
      "CS_3: 9.600\t9.600\t\n",
      "CS_4: 0.000\t0.000\t\n",
      "Global_inf:  [0, 4.600000000000001, 0.0, 9.599999999999994, 0]\n"
     ]
    }
   ],
   "source": [
    "env.render()"
   ]
  }
 ],
 "metadata": {
  "kernelspec": {
   "display_name": "Python 3",
   "language": "python",
   "name": "python3"
  },
  "language_info": {
   "codemirror_mode": {
    "name": "ipython",
    "version": 3
   },
   "file_extension": ".py",
   "mimetype": "text/x-python",
   "name": "python",
   "nbconvert_exporter": "python",
   "pygments_lexer": "ipython3",
   "version": "3.11.9"
  }
 },
 "nbformat": 4,
 "nbformat_minor": 2
}
