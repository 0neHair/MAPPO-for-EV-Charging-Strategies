{
 "cells": [
  {
   "cell_type": "code",
   "execution_count": 1,
   "metadata": {},
   "outputs": [],
   "source": [
    "import numpy as np\n",
    "np.random.seed(1)"
   ]
  },
  {
   "cell_type": "code",
   "execution_count": 2,
   "metadata": {},
   "outputs": [],
   "source": [
    "from env.EV_Sce_Env import EV_Sce_Env\n",
    "\n",
    "env = EV_Sce_Env('test_2', seed=np.random.randint(1024))\n",
    "env.reset()"
   ]
  },
  {
   "cell_type": "code",
   "execution_count": 19,
   "metadata": {},
   "outputs": [
    {
     "data": {
      "text/plain": [
       "([array([0.6       , 8.        , 6.06666667, 0.        ]),\n",
       "  array([0.1, 8. , 5. , 0. ])],\n",
       " array([0.6       , 8.        , 6.06666667, 0.1       , 8.        ,\n",
       "        5.        , 0.        , 0.        , 2.3       ]),\n",
       " [array([0]), array([-5])],\n",
       " [array([ True]), array([ True])],\n",
       " [],\n",
       " [array([0]), array([0])],\n",
       " [],\n",
       " [])"
      ]
     },
     "execution_count": 19,
     "metadata": {},
     "output_type": "execute_result"
    }
   ],
   "source": [
    "env.step([0, 0])"
   ]
  },
  {
   "cell_type": "code",
   "execution_count": 20,
   "metadata": {},
   "outputs": [
    {
     "name": "stdout",
     "output_type": "stream",
     "text": [
      "Time: 7.7 h\n",
      "CS_0:None----CS_1:None----CS_2:None----CS_3:None----CS_5:[EV_0,EV_1]\n",
      "EV_0:\n",
      "\t SOC:0.60 Pos:8 Reward:-6.07\n",
      "\t Action_list:  [0.5, 0, 0]\n",
      "EV_1:\n",
      "\t SOC:0.10 Pos:8 Reward:-5.00\n",
      "\t Action_list:  [0, 0, 0]\n",
      "CS_0: 0.00\t0.00\t\n",
      "CS_1: 0.00\t0.00\t\n",
      "CS_2: 2.30\t2.30\t\n",
      "Global_inf:  [0, 0.0, 2.2999999999999927]\n"
     ]
    }
   ],
   "source": [
    "env.render()"
   ]
  }
 ],
 "metadata": {
  "kernelspec": {
   "display_name": "Python 3",
   "language": "python",
   "name": "python3"
  },
  "language_info": {
   "codemirror_mode": {
    "name": "ipython",
    "version": 3
   },
   "file_extension": ".py",
   "mimetype": "text/x-python",
   "name": "python",
   "nbconvert_exporter": "python",
   "pygments_lexer": "ipython3",
   "version": "3.11.9"
  }
 },
 "nbformat": 4,
 "nbformat_minor": 2
}
